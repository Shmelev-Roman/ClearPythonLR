{
 "cells": [
  {
   "cell_type": "code",
   "execution_count": 217,
   "metadata": {},
   "outputs": [],
   "source": [
    "import numpy as np\n",
    "from sklearn.datasets import make_regression"
   ]
  },
  {
   "cell_type": "code",
   "execution_count": 218,
   "metadata": {},
   "outputs": [],
   "source": [
    "X, y = make_regression(n_samples=1000, n_features=14, n_informative=10, noise=15, random_state=42)\n",
    "X = np.array(X)\n",
    "y = np.array(y)"
   ]
  },
  {
   "cell_type": "code",
   "execution_count": 232,
   "metadata": {},
   "outputs": [],
   "source": [
    "# Линейная регрессия\n",
    "class MyLineReg():\n",
    "    # Инициализация класса\n",
    "    def __init__(self, weights=None, n_iter: int=100, learning_rate: int=0.1, metric: str=None) -> None:\n",
    "        self.n_iter = n_iter\n",
    "        self.learning_rate = learning_rate\n",
    "        self.weights = weights\n",
    "        self.metric = metric\n",
    "        self.best_score = 0\n",
    "        \n",
    "    # Вывод информации при передаче в print()\n",
    "    def __str__(self) -> str:\n",
    "        return f\"MyLineReg class: n_iter={self.n_iter}, learning_rate={self.learning_rate}\"\n",
    "\n",
    "    # Алгоритм тренировки модели\n",
    "    def fit(self, X: np.ndarray, y: np.ndarray, verbose: int=0) -> None:\n",
    "        # Дополняем матрицу фичей столбцом единиц слева для w0\n",
    "        X = np.concatenate((np.ones(len(X))[:, np.newaxis], X), axis=1)\n",
    "        self.weights = np.ones(X.shape[1])\n",
    "        \n",
    "        # процесс обучения\n",
    "        for i in range(1, self.n_iter + 1):\n",
    "            pred = np.matmul(X, self.weights.T)\n",
    "            # Подсчет ошибки\n",
    "            MSE = np.sum(np.power(pred - y, 2)) / len(pred)\n",
    "            # Логи\n",
    "            if verbose and i % verbose == 0:\n",
    "                print(f\"Iteration {i}, loss: {MSE}, {self.metric}: {self.calc_metrics(pred, y)}\")\n",
    "            # подсчет градиента и обновление весов\n",
    "            gradient = (2 / len(pred)) * np.matmul((pred - y).T, X)\n",
    "            self.weights = self.weights - self.learning_rate * gradient\n",
    "        \n",
    "        pred = np.matmul(X, self.weights.T)\n",
    "        self.best_score = self.calc_metrics(pred, y)\n",
    "    \n",
    "    # Получение весов модели\n",
    "    def get_coef(self) -> np.ndarray:\n",
    "        return self.weights[1:]\n",
    "    \n",
    "    # Предсказания\n",
    "    def predict(self, X: np.ndarray) -> np.ndarray:\n",
    "        X = np.concatenate((np.ones(len(X))[:, np.newaxis], X), axis=1)\n",
    "        return np.matmul(X, self.weights.T)\n",
    "    \n",
    "    # Метрики\n",
    "    def calc_metrics(self, pred: np.ndarray, y: np.ndarray) -> np.float64:\n",
    "        if self.metric == 'mae':\n",
    "            return np.sum(np.abs(pred - y)) / len(pred)\n",
    "        elif self.metric == 'mse':\n",
    "            return np.sum(np.power(pred - y, 2)) / len(pred)\n",
    "        elif self.metric == 'rmse':\n",
    "            return np.sqrt(np.sum(np.power(pred - y, 2)) / len(pred))\n",
    "        elif self.metric == 'r2':\n",
    "            return 1 - (np.sum(np.power(y - pred, 2)) / np.sum(np.power(y - y.mean(), 2)))\n",
    "        elif self.metric == 'mape':\n",
    "            return np.sum(np.abs((y - pred) / y)) / len(pred) * 100\n",
    "        else:\n",
    "            return None\n",
    "    \n",
    "    # лучший результат модели\n",
    "    def get_best_score(self) -> np.float64:\n",
    "        return self.best_score\n",
    "    "
   ]
  },
  {
   "cell_type": "code",
   "execution_count": 233,
   "metadata": {},
   "outputs": [
    {
     "name": "stdout",
     "output_type": "stream",
     "text": [
      "Iteration 10, loss: 657.737973587785, mae: 20.292259499795573\n",
      "Iteration 20, loss: 231.5100242125879, mae: 12.215005097465703\n",
      "Iteration 30, loss: 223.84038255545846, mae: 12.005051555730645\n",
      "Iteration 40, loss: 223.66948016014277, mae: 11.994186476564652\n",
      "Iteration 50, loss: 223.66509145066428, mae: 11.992771013940239\n"
     ]
    },
    {
     "data": {
      "text/plain": [
       "11.992727057657051"
      ]
     },
     "execution_count": 233,
     "metadata": {},
     "output_type": "execute_result"
    }
   ],
   "source": [
    "linear = MyLineReg(n_iter=50, learning_rate=0.1,metric='mae')\n",
    "linear.fit(X, y, verbose=10)\n",
    "linear.get_best_score()"
   ]
  }
 ],
 "metadata": {
  "kernelspec": {
   "display_name": "DataScience",
   "language": "python",
   "name": "python3"
  },
  "language_info": {
   "codemirror_mode": {
    "name": "ipython",
    "version": 3
   },
   "file_extension": ".py",
   "mimetype": "text/x-python",
   "name": "python",
   "nbconvert_exporter": "python",
   "pygments_lexer": "ipython3",
   "version": "3.11.5"
  },
  "orig_nbformat": 4
 },
 "nbformat": 4,
 "nbformat_minor": 2
}
